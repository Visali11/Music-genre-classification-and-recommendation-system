{
  "metadata": {
    "kernelspec": {
      "language": "python",
      "display_name": "Python 3",
      "name": "python3"
    },
    "language_info": {
      "name": "python",
      "version": "3.10.13",
      "mimetype": "text/x-python",
      "codemirror_mode": {
        "name": "ipython",
        "version": 3
      },
      "pygments_lexer": "ipython3",
      "nbconvert_exporter": "python",
      "file_extension": ".py"
    },
    "kaggle": {
      "accelerator": "none",
      "dataSources": [
        {
          "sourceId": 927168,
          "sourceType": "datasetVersion",
          "datasetId": 500146
        }
      ],
      "dockerImageVersionId": 30664,
      "isInternetEnabled": false,
      "language": "python",
      "sourceType": "notebook",
      "isGpuEnabled": false
    },
    "colab": {
      "name": "music genre classification and recommendation",
      "provenance": []
    }
  },
  "nbformat_minor": 0,
  "nbformat": 4,
  "cells": [
    {
      "cell_type": "code",
      "source": [
        "# This Python 3 environment comes with many helpful analytics libraries installed\n",
        "# It is defined by the kaggle/python Docker image: https://github.com/kaggle/docker-python\n",
        "# For example, here's several helpful packages to load\n",
        "\n",
        "import numpy as np # linear algebra\n",
        "import pandas as pd # data processing, CSV file I/O (e.g. pd.read_csv)\n",
        "\n",
        "# Input data files are available in the read-only \"../input/\" directory\n",
        "# For example, running this (by clicking run or pressing Shift+Enter) will list all files under the input directory\n",
        "\n",
        "import os\n",
        "for dirname, _, filenames in os.walk('/kaggle/input'):\n",
        "    for filename in filenames:\n",
        "        print(os.path.join(dirname, filename))\n",
        "\n",
        "# You can write up to 20GB to the current directory (/kaggle/working/) that gets preserved as output when you create a version using \"Save & Run All\"\n",
        "# You can also write temporary files to /kaggle/temp/, but they won't be saved outside of the current session"
      ],
      "metadata": {
        "_uuid": "8f2839f25d086af736a60e9eeb907d3b93b6e0e5",
        "_cell_guid": "b1076dfc-b9ad-4769-8c92-a6c4dae69d19",
        "execution": {
          "iopub.status.busy": "2024-03-17T17:59:21.331136Z",
          "iopub.execute_input": "2024-03-17T17:59:21.331607Z",
          "iopub.status.idle": "2024-03-17T17:59:21.770067Z",
          "shell.execute_reply.started": "2024-03-17T17:59:21.331573Z",
          "shell.execute_reply": "2024-03-17T17:59:21.769048Z"
        },
        "trusted": true,
        "id": "SkzB-MSV4yXW",
        "outputId": "60d49c0b-2e7f-4b32-eb51-3db481e7ea36"
      },
      "execution_count": null,
      "outputs": [
        {
          "name": "stdout",
          "text": "/kaggle/input/spotify-top-2000s-mega-dataset/Spotify-2000.csv\n",
          "output_type": "stream"
        }
      ]
    },
    {
      "cell_type": "code",
      "source": [
        "import pandas as pd\n",
        "import nltk\n",
        "from nltk.stem.porter import PorterStemmer\n",
        "from sklearn.feature_extraction.text import TfidfVectorizer\n",
        "from sklearn.metrics.pairwise import cosine_similarity\n",
        "from sklearn.model_selection import train_test_split\n",
        "from sklearn.naive_bayes import MultinomialNB\n",
        "from sklearn.pipeline import Pipeline\n",
        "from sklearn.preprocessing import LabelEncoder"
      ],
      "metadata": {
        "execution": {
          "iopub.status.busy": "2024-03-17T17:59:23.47716Z",
          "iopub.execute_input": "2024-03-17T17:59:23.4777Z",
          "iopub.status.idle": "2024-03-17T17:59:24.74379Z",
          "shell.execute_reply.started": "2024-03-17T17:59:23.477666Z",
          "shell.execute_reply": "2024-03-17T17:59:24.742878Z"
        },
        "trusted": true,
        "id": "Qm9vnV0J4yXX"
      },
      "execution_count": null,
      "outputs": []
    },
    {
      "cell_type": "code",
      "source": [
        "df = pd.read_csv('/kaggle/input/spotify-top-2000s-mega-dataset/Spotify-2000.csv')"
      ],
      "metadata": {
        "execution": {
          "iopub.status.busy": "2024-03-17T17:59:30.39759Z",
          "iopub.execute_input": "2024-03-17T17:59:30.397977Z",
          "iopub.status.idle": "2024-03-17T17:59:30.429598Z",
          "shell.execute_reply.started": "2024-03-17T17:59:30.397945Z",
          "shell.execute_reply": "2024-03-17T17:59:30.428504Z"
        },
        "trusted": true,
        "id": "FcUKp_kC4yXY"
      },
      "execution_count": null,
      "outputs": []
    },
    {
      "cell_type": "code",
      "source": [
        "df.head(4)"
      ],
      "metadata": {
        "execution": {
          "iopub.status.busy": "2024-03-17T17:59:32.399912Z",
          "iopub.execute_input": "2024-03-17T17:59:32.400281Z",
          "iopub.status.idle": "2024-03-17T17:59:32.42347Z",
          "shell.execute_reply.started": "2024-03-17T17:59:32.400254Z",
          "shell.execute_reply": "2024-03-17T17:59:32.422273Z"
        },
        "trusted": true,
        "id": "xDIH44b14yXZ",
        "outputId": "5eb09ced-230e-4afc-c05f-28ae1c5671df"
      },
      "execution_count": null,
      "outputs": [
        {
          "execution_count": 5,
          "output_type": "execute_result",
          "data": {
            "text/plain": "   Index           Title        Artist            Top Genre  Year  \\\n0      1         Sunrise   Norah Jones      adult standards  2004   \n1      2     Black Night   Deep Purple           album rock  2000   \n2      3  Clint Eastwood      Gorillaz  alternative hip hop  2001   \n3      4   The Pretender  Foo Fighters    alternative metal  2007   \n\n   Beats Per Minute (BPM)  Energy  Danceability  Loudness (dB)  Liveness  \\\n0                     157      30            53            -14        11   \n1                     135      79            50            -11        17   \n2                     168      69            66             -9         7   \n3                     173      96            43             -4         3   \n\n   Valence Length (Duration)  Acousticness  Speechiness  Popularity  \n0       68               201            94            3          71  \n1       81               207            17            7          39  \n2       52               341             2           17          69  \n3       37               269             0            4          76  ",
            "text/html": "<div>\n<style scoped>\n    .dataframe tbody tr th:only-of-type {\n        vertical-align: middle;\n    }\n\n    .dataframe tbody tr th {\n        vertical-align: top;\n    }\n\n    .dataframe thead th {\n        text-align: right;\n    }\n</style>\n<table border=\"1\" class=\"dataframe\">\n  <thead>\n    <tr style=\"text-align: right;\">\n      <th></th>\n      <th>Index</th>\n      <th>Title</th>\n      <th>Artist</th>\n      <th>Top Genre</th>\n      <th>Year</th>\n      <th>Beats Per Minute (BPM)</th>\n      <th>Energy</th>\n      <th>Danceability</th>\n      <th>Loudness (dB)</th>\n      <th>Liveness</th>\n      <th>Valence</th>\n      <th>Length (Duration)</th>\n      <th>Acousticness</th>\n      <th>Speechiness</th>\n      <th>Popularity</th>\n    </tr>\n  </thead>\n  <tbody>\n    <tr>\n      <th>0</th>\n      <td>1</td>\n      <td>Sunrise</td>\n      <td>Norah Jones</td>\n      <td>adult standards</td>\n      <td>2004</td>\n      <td>157</td>\n      <td>30</td>\n      <td>53</td>\n      <td>-14</td>\n      <td>11</td>\n      <td>68</td>\n      <td>201</td>\n      <td>94</td>\n      <td>3</td>\n      <td>71</td>\n    </tr>\n    <tr>\n      <th>1</th>\n      <td>2</td>\n      <td>Black Night</td>\n      <td>Deep Purple</td>\n      <td>album rock</td>\n      <td>2000</td>\n      <td>135</td>\n      <td>79</td>\n      <td>50</td>\n      <td>-11</td>\n      <td>17</td>\n      <td>81</td>\n      <td>207</td>\n      <td>17</td>\n      <td>7</td>\n      <td>39</td>\n    </tr>\n    <tr>\n      <th>2</th>\n      <td>3</td>\n      <td>Clint Eastwood</td>\n      <td>Gorillaz</td>\n      <td>alternative hip hop</td>\n      <td>2001</td>\n      <td>168</td>\n      <td>69</td>\n      <td>66</td>\n      <td>-9</td>\n      <td>7</td>\n      <td>52</td>\n      <td>341</td>\n      <td>2</td>\n      <td>17</td>\n      <td>69</td>\n    </tr>\n    <tr>\n      <th>3</th>\n      <td>4</td>\n      <td>The Pretender</td>\n      <td>Foo Fighters</td>\n      <td>alternative metal</td>\n      <td>2007</td>\n      <td>173</td>\n      <td>96</td>\n      <td>43</td>\n      <td>-4</td>\n      <td>3</td>\n      <td>37</td>\n      <td>269</td>\n      <td>0</td>\n      <td>4</td>\n      <td>76</td>\n    </tr>\n  </tbody>\n</table>\n</div>"
          },
          "metadata": {}
        }
      ]
    },
    {
      "cell_type": "code",
      "source": [
        "df.tail(4)"
      ],
      "metadata": {
        "execution": {
          "iopub.status.busy": "2024-03-17T17:59:35.221369Z",
          "iopub.execute_input": "2024-03-17T17:59:35.222294Z",
          "iopub.status.idle": "2024-03-17T17:59:35.239765Z",
          "shell.execute_reply.started": "2024-03-17T17:59:35.22225Z",
          "shell.execute_reply": "2024-03-17T17:59:35.238521Z"
        },
        "trusted": true,
        "id": "HmJyH9oS4yXZ",
        "outputId": "2463a5e9-1af8-4325-fcd5-80ef6c6f5e04"
      },
      "execution_count": null,
      "outputs": [
        {
          "execution_count": 6,
          "output_type": "execute_result",
          "data": {
            "text/plain": "      Index            Title                    Artist        Top Genre  Year  \\\n1990   1991        Hound Dog             Elvis Presley  adult standards  1958   \n1991   1992  Johnny B. Goode               Chuck Berry       blues rock  1959   \n1992   1993        Take Five  The Dave Brubeck Quartet            bebop  1959   \n1993   1994   Blueberry Hill               Fats Domino  adult standards  1959   \n\n      Beats Per Minute (BPM)  Energy  Danceability  Loudness (dB)  Liveness  \\\n1990                     175      76            36             -8        76   \n1991                     168      80            53             -9        31   \n1992                     174      26            45            -13         7   \n1993                     133      50            49            -10        16   \n\n      Valence Length (Duration)  Acousticness  Speechiness  Popularity  \n1990       95               136            73            6          69  \n1991       97               162            74            7          74  \n1992       60               324            54            4          65  \n1993       83               148            74            3          56  ",
            "text/html": "<div>\n<style scoped>\n    .dataframe tbody tr th:only-of-type {\n        vertical-align: middle;\n    }\n\n    .dataframe tbody tr th {\n        vertical-align: top;\n    }\n\n    .dataframe thead th {\n        text-align: right;\n    }\n</style>\n<table border=\"1\" class=\"dataframe\">\n  <thead>\n    <tr style=\"text-align: right;\">\n      <th></th>\n      <th>Index</th>\n      <th>Title</th>\n      <th>Artist</th>\n      <th>Top Genre</th>\n      <th>Year</th>\n      <th>Beats Per Minute (BPM)</th>\n      <th>Energy</th>\n      <th>Danceability</th>\n      <th>Loudness (dB)</th>\n      <th>Liveness</th>\n      <th>Valence</th>\n      <th>Length (Duration)</th>\n      <th>Acousticness</th>\n      <th>Speechiness</th>\n      <th>Popularity</th>\n    </tr>\n  </thead>\n  <tbody>\n    <tr>\n      <th>1990</th>\n      <td>1991</td>\n      <td>Hound Dog</td>\n      <td>Elvis Presley</td>\n      <td>adult standards</td>\n      <td>1958</td>\n      <td>175</td>\n      <td>76</td>\n      <td>36</td>\n      <td>-8</td>\n      <td>76</td>\n      <td>95</td>\n      <td>136</td>\n      <td>73</td>\n      <td>6</td>\n      <td>69</td>\n    </tr>\n    <tr>\n      <th>1991</th>\n      <td>1992</td>\n      <td>Johnny B. Goode</td>\n      <td>Chuck Berry</td>\n      <td>blues rock</td>\n      <td>1959</td>\n      <td>168</td>\n      <td>80</td>\n      <td>53</td>\n      <td>-9</td>\n      <td>31</td>\n      <td>97</td>\n      <td>162</td>\n      <td>74</td>\n      <td>7</td>\n      <td>74</td>\n    </tr>\n    <tr>\n      <th>1992</th>\n      <td>1993</td>\n      <td>Take Five</td>\n      <td>The Dave Brubeck Quartet</td>\n      <td>bebop</td>\n      <td>1959</td>\n      <td>174</td>\n      <td>26</td>\n      <td>45</td>\n      <td>-13</td>\n      <td>7</td>\n      <td>60</td>\n      <td>324</td>\n      <td>54</td>\n      <td>4</td>\n      <td>65</td>\n    </tr>\n    <tr>\n      <th>1993</th>\n      <td>1994</td>\n      <td>Blueberry Hill</td>\n      <td>Fats Domino</td>\n      <td>adult standards</td>\n      <td>1959</td>\n      <td>133</td>\n      <td>50</td>\n      <td>49</td>\n      <td>-10</td>\n      <td>16</td>\n      <td>83</td>\n      <td>148</td>\n      <td>74</td>\n      <td>3</td>\n      <td>56</td>\n    </tr>\n  </tbody>\n</table>\n</div>"
          },
          "metadata": {}
        }
      ]
    },
    {
      "cell_type": "code",
      "source": [
        "df.shape"
      ],
      "metadata": {
        "execution": {
          "iopub.status.busy": "2024-03-17T17:59:38.122069Z",
          "iopub.execute_input": "2024-03-17T17:59:38.1227Z",
          "iopub.status.idle": "2024-03-17T17:59:38.130881Z",
          "shell.execute_reply.started": "2024-03-17T17:59:38.122667Z",
          "shell.execute_reply": "2024-03-17T17:59:38.129752Z"
        },
        "trusted": true,
        "id": "sxypFelk4yXa",
        "outputId": "60540e5d-5b64-4199-d1e7-a34cb96700f4"
      },
      "execution_count": null,
      "outputs": [
        {
          "execution_count": 7,
          "output_type": "execute_result",
          "data": {
            "text/plain": "(1994, 15)"
          },
          "metadata": {}
        }
      ]
    },
    {
      "cell_type": "code",
      "source": [
        "df.isnull().sum()"
      ],
      "metadata": {
        "execution": {
          "iopub.status.busy": "2024-03-17T17:59:40.441294Z",
          "iopub.execute_input": "2024-03-17T17:59:40.441689Z",
          "iopub.status.idle": "2024-03-17T17:59:40.453117Z",
          "shell.execute_reply.started": "2024-03-17T17:59:40.441659Z",
          "shell.execute_reply": "2024-03-17T17:59:40.452046Z"
        },
        "trusted": true,
        "id": "ZfPRIMA14yXa",
        "outputId": "b6d42fe1-f4a7-493a-c8b9-21b2c5fa8196"
      },
      "execution_count": null,
      "outputs": [
        {
          "execution_count": 8,
          "output_type": "execute_result",
          "data": {
            "text/plain": "Index                     0\nTitle                     0\nArtist                    0\nTop Genre                 0\nYear                      0\nBeats Per Minute (BPM)    0\nEnergy                    0\nDanceability              0\nLoudness (dB)             0\nLiveness                  0\nValence                   0\nLength (Duration)         0\nAcousticness              0\nSpeechiness               0\nPopularity                0\ndtype: int64"
          },
          "metadata": {}
        }
      ]
    },
    {
      "cell_type": "code",
      "source": [
        "df = df[['Title', 'Top Genre']]\n",
        "df.head"
      ],
      "metadata": {
        "execution": {
          "iopub.status.busy": "2024-03-17T17:59:43.36182Z",
          "iopub.execute_input": "2024-03-17T17:59:43.363075Z",
          "iopub.status.idle": "2024-03-17T17:59:43.38031Z",
          "shell.execute_reply.started": "2024-03-17T17:59:43.363034Z",
          "shell.execute_reply": "2024-03-17T17:59:43.379158Z"
        },
        "trusted": true,
        "id": "yOI74rwy4yXb",
        "outputId": "f828d544-6ef1-4fbb-b204-8cc8e2657ccf"
      },
      "execution_count": null,
      "outputs": [
        {
          "execution_count": 9,
          "output_type": "execute_result",
          "data": {
            "text/plain": "<bound method NDFrame.head of                        Title            Top Genre\n0                    Sunrise      adult standards\n1                Black Night           album rock\n2             Clint Eastwood  alternative hip hop\n3              The Pretender    alternative metal\n4     Waitin' On A Sunny Day         classic rock\n...                      ...                  ...\n1989        Heartbreak Hotel      adult standards\n1990               Hound Dog      adult standards\n1991         Johnny B. Goode           blues rock\n1992               Take Five                bebop\n1993          Blueberry Hill      adult standards\n\n[1994 rows x 2 columns]>"
          },
          "metadata": {}
        }
      ]
    },
    {
      "cell_type": "code",
      "source": [
        "df = df.dropna()"
      ],
      "metadata": {
        "execution": {
          "iopub.status.busy": "2024-03-17T17:59:45.613837Z",
          "iopub.execute_input": "2024-03-17T17:59:45.614226Z",
          "iopub.status.idle": "2024-03-17T17:59:45.621752Z",
          "shell.execute_reply.started": "2024-03-17T17:59:45.614197Z",
          "shell.execute_reply": "2024-03-17T17:59:45.620502Z"
        },
        "trusted": true,
        "id": "THNyIJ7m4yXb"
      },
      "execution_count": null,
      "outputs": []
    },
    {
      "cell_type": "code",
      "source": [
        "df.shape"
      ],
      "metadata": {
        "execution": {
          "iopub.status.busy": "2024-03-17T17:59:48.262735Z",
          "iopub.execute_input": "2024-03-17T17:59:48.263277Z",
          "iopub.status.idle": "2024-03-17T17:59:48.271714Z",
          "shell.execute_reply.started": "2024-03-17T17:59:48.263236Z",
          "shell.execute_reply": "2024-03-17T17:59:48.270283Z"
        },
        "trusted": true,
        "id": "nUVkmurC4yXc",
        "outputId": "20543353-417d-4ea2-e898-b511635601c9"
      },
      "execution_count": null,
      "outputs": [
        {
          "execution_count": 11,
          "output_type": "execute_result",
          "data": {
            "text/plain": "(1994, 2)"
          },
          "metadata": {}
        }
      ]
    },
    {
      "cell_type": "code",
      "source": [
        "df.head(4)"
      ],
      "metadata": {
        "execution": {
          "iopub.status.busy": "2024-03-17T17:59:50.2605Z",
          "iopub.execute_input": "2024-03-17T17:59:50.260863Z",
          "iopub.status.idle": "2024-03-17T17:59:50.272295Z",
          "shell.execute_reply.started": "2024-03-17T17:59:50.260836Z",
          "shell.execute_reply": "2024-03-17T17:59:50.270819Z"
        },
        "trusted": true,
        "id": "zjAS8pZ34yXc",
        "outputId": "524d3624-2340-4030-86d0-1ca698fd5970"
      },
      "execution_count": null,
      "outputs": [
        {
          "execution_count": 12,
          "output_type": "execute_result",
          "data": {
            "text/plain": "            Title            Top Genre\n0         Sunrise      adult standards\n1     Black Night           album rock\n2  Clint Eastwood  alternative hip hop\n3   The Pretender    alternative metal",
            "text/html": "<div>\n<style scoped>\n    .dataframe tbody tr th:only-of-type {\n        vertical-align: middle;\n    }\n\n    .dataframe tbody tr th {\n        vertical-align: top;\n    }\n\n    .dataframe thead th {\n        text-align: right;\n    }\n</style>\n<table border=\"1\" class=\"dataframe\">\n  <thead>\n    <tr style=\"text-align: right;\">\n      <th></th>\n      <th>Title</th>\n      <th>Top Genre</th>\n    </tr>\n  </thead>\n  <tbody>\n    <tr>\n      <th>0</th>\n      <td>Sunrise</td>\n      <td>adult standards</td>\n    </tr>\n    <tr>\n      <th>1</th>\n      <td>Black Night</td>\n      <td>album rock</td>\n    </tr>\n    <tr>\n      <th>2</th>\n      <td>Clint Eastwood</td>\n      <td>alternative hip hop</td>\n    </tr>\n    <tr>\n      <th>3</th>\n      <td>The Pretender</td>\n      <td>alternative metal</td>\n    </tr>\n  </tbody>\n</table>\n</div>"
          },
          "metadata": {}
        }
      ]
    },
    {
      "cell_type": "code",
      "source": [
        "label_encoder = LabelEncoder()\n",
        "label_encoder.fit(df['Top Genre'])\n",
        "\n",
        "# Transforming genre labels into encoded values\n",
        "df['Encoded Genre'] = label_encoder.transform(df['Top Genre'])"
      ],
      "metadata": {
        "execution": {
          "iopub.status.busy": "2024-03-17T17:59:52.587073Z",
          "iopub.execute_input": "2024-03-17T17:59:52.587456Z",
          "iopub.status.idle": "2024-03-17T17:59:52.598037Z",
          "shell.execute_reply.started": "2024-03-17T17:59:52.587407Z",
          "shell.execute_reply": "2024-03-17T17:59:52.596895Z"
        },
        "trusted": true,
        "id": "iWxMJSsy4yXc"
      },
      "execution_count": null,
      "outputs": []
    },
    {
      "cell_type": "code",
      "source": [
        "def recommendation(song_title, n=11):\n",
        "    song_genre = df.loc[df['Title'] == song_title, 'Top Genre'].values[0]\n",
        "    genre_songs = df[df['Top Genre'] == song_genre]\n",
        "    if len(genre_songs) < n:\n",
        "            n = len(genre_songs)  # Limit n to the available songs\n",
        "            print(f\"There are only {n} songs in the '{song_genre}' genre.\")\n",
        "\n",
        "    recommended_songs = genre_songs.sample(n)['Title'].tolist()\n",
        "    return song_genre, recommended_songs\n",
        "\n",
        "input_song = 'Take Five'\n",
        "song_genre, recommended_songs = recommendation(input_song)\n",
        "print(\"Genre based on the input song:\", song_genre)\n",
        "print(\"Recommended songs from the same genre:\")\n",
        "print(recommended_songs)\n"
      ],
      "metadata": {
        "execution": {
          "iopub.status.busy": "2024-03-17T17:59:55.43572Z",
          "iopub.execute_input": "2024-03-17T17:59:55.436138Z",
          "iopub.status.idle": "2024-03-17T17:59:55.44969Z",
          "shell.execute_reply.started": "2024-03-17T17:59:55.436105Z",
          "shell.execute_reply": "2024-03-17T17:59:55.448559Z"
        },
        "trusted": true,
        "id": "A4goNZS24yXc",
        "outputId": "c6bb0311-5c9a-4ae2-f576-32d0254ff901"
      },
      "execution_count": null,
      "outputs": [
        {
          "name": "stdout",
          "text": "There are only 1 songs in the 'bebop' genre.\nGenre based on the input song: bebop\nRecommended songs from the same genre:\n['Take Five']\n",
          "output_type": "stream"
        }
      ]
    },
    {
      "cell_type": "code",
      "source": [
        "def recommendation(song_title, n=11):\n",
        "    song_genre = df.loc[df['Title'] == song_title, 'Top Genre'].values[0]\n",
        "    genre_songs = df[df['Top Genre'] == song_genre]\n",
        "    if len(genre_songs) < n:\n",
        "            n = len(genre_songs)  # Limit n to the available songs\n",
        "            print(f\"There are only {n} songs in the '{song_genre}' genre.\")\n",
        "\n",
        "    recommended_songs = genre_songs.sample(n)['Title'].tolist()\n",
        "    return song_genre, recommended_songs\n",
        "\n",
        "input_song = 'Johnny B. Goode'\n",
        "song_genre, recommended_songs = recommendation(input_song)\n",
        "print(\"Genre:\", song_genre)\n",
        "print(\"Recommended songs:\")\n",
        "print(recommended_songs)"
      ],
      "metadata": {
        "execution": {
          "iopub.status.busy": "2024-03-17T17:59:59.743065Z",
          "iopub.execute_input": "2024-03-17T17:59:59.743427Z",
          "iopub.status.idle": "2024-03-17T17:59:59.759131Z",
          "shell.execute_reply.started": "2024-03-17T17:59:59.743399Z",
          "shell.execute_reply": "2024-03-17T17:59:59.757078Z"
        },
        "trusted": true,
        "id": "vKRvIQ_O4yXd",
        "outputId": "526218eb-37ea-496f-ffaf-8e7c67cca354"
      },
      "execution_count": null,
      "outputs": [
        {
          "name": "stdout",
          "text": "Genre: blues rock\nRecommended songs:\n[\"Europa (Earth's Cry Heaven's Smile)\", 'LA Song', 'Me and Bobby McGee', 'Samba Pa Ti', 'Cry Baby', 'Mercedes Benz', \"She's Not There\", 'Smooth (feat. Rob Thomas)', 'Bird of Paradise', 'Leave the Light On', 'Johnny B. Goode']\n",
          "output_type": "stream"
        }
      ]
    },
    {
      "cell_type": "code",
      "source": [
        "import pickle\n",
        "pickle.dump(df,open('similer.pkl','wb'))\n",
        "pickle.dump(df,open('mu.pkl','wb'))"
      ],
      "metadata": {
        "execution": {
          "iopub.status.busy": "2024-03-17T18:00:32.397078Z",
          "iopub.execute_input": "2024-03-17T18:00:32.397478Z",
          "iopub.status.idle": "2024-03-17T18:00:32.405664Z",
          "shell.execute_reply.started": "2024-03-17T18:00:32.397449Z",
          "shell.execute_reply": "2024-03-17T18:00:32.404378Z"
        },
        "trusted": true,
        "id": "HNNc15aW4yXd"
      },
      "execution_count": null,
      "outputs": []
    }
  ]
}